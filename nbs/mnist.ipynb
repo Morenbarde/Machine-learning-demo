{
 "cells": [
  {
   "cell_type": "code",
   "execution_count": 13,
   "metadata": {},
   "outputs": [],
   "source": [
    "# Run this block and make sure it is successful.\n",
    "import numpy as np  # used for handling mathematical operations easier in python\n",
    "import tensorflow as tf  # used for creating and training machine learning models \n",
    "from tensorflow import keras # Keras contains the mnist dataset\n",
    "from matplotlib import pyplot as plt  # library that helps us visualize data by creating plots \n",
    "import seaborn as sn # visualization library for creating more complex graphs"
   ]
  },
  {
   "cell_type": "code",
   "execution_count": 14,
   "metadata": {},
   "outputs": [],
   "source": [
    "\n",
    "(x_train, y_train), (x_test, y_test) = keras.datasets.mnist.load_data() "
   ]
  },
  {
   "cell_type": "code",
   "execution_count": 18,
   "metadata": {},
   "outputs": [
    {
     "name": "stdout",
     "output_type": "stream",
     "text": [
      "The plot represents the number 3\n"
     ]
    },
    {
     "data": {
      "image/png": "[encoded data removed]",
      "text/plain": [
       "<Figure size 640x480 with 1 Axes>"
      ]
     },
     "metadata": {},
     "output_type": "display_data"
    }
   ],
   "source": [
    "def plotImage(index,x_train,x_test,y_train):\n",
    "    # Normalize the values so they are a decimal between 0 and 1\n",
    "    x_train = x_train/255\n",
    "    x_test = x_test/255\n",
    "    print(f'The plot represents the number {y_train[index]}')\n",
    "    plt.imshow(x_train[index],cmap = plt.cm.binary )\n",
    "    plt.show()\n",
    "\n",
    "\n",
    "#TODO: change the index to see other values in the dataset\n",
    "plotImage(50, x_train, x_test, y_train)"
   ]
  },
  {
   "cell_type": "code",
   "execution_count": 24,
   "metadata": {},
   "outputs": [],
   "source": [
    "# TODO: Add reshape the data in this code block\n",
    "NumberOfRows = len(x_train)\n",
    "NumberOfColumns = 784\n",
    "x_train_flat = x_train.reshape(NumberOfRows, NumberOfColumns)\n",
    "NumberOfRows = len(x_test)\n",
    "x_test_flat = x_test.reshape(NumberOfRows, NumberOfColumns)"
   ]
  },
  {
   "cell_type": "code",
   "execution_count": 26,
   "metadata": {},
   "outputs": [],
   "source": [
    "# Model creation\n",
    "model = keras.Sequential([\n",
    "    keras.layers.Dense(128, input_shape = (784,),activation='relu'), \n",
    "    keras.layers.Dense(64, activation='sigmoid'), \n",
    "    keras.layers.Dense(32, activation='sigmoid'), \n",
    "    keras.layers.Dense(10, activation='sigmoid')\n",
    "])\n",
    "model.compile (\n",
    "    optimizer='adam',\n",
    "    loss = 'sparse_categorical_crossentropy',\n",
    "    metrics = ['accuracy']\n",
    ")"
   ]
  },
  {
   "cell_type": "code",
   "execution_count": 27,
   "metadata": {},
   "outputs": [
    {
     "name": "stdout",
     "output_type": "stream",
     "text": [
      "Epoch 1/5\n",
      "1875/1875 [==============================] - 6s 2ms/step - loss: 0.7514 - accuracy: 0.8084\n",
      "Epoch 2/5\n",
      "1875/1875 [==============================] - 5s 2ms/step - loss: 0.3330 - accuracy: 0.9033\n",
      "Epoch 3/5\n",
      "1875/1875 [==============================] - 4s 2ms/step - loss: 0.2833 - accuracy: 0.9160\n",
      "Epoch 4/5\n",
      "1875/1875 [==============================] - 5s 2ms/step - loss: 0.2552 - accuracy: 0.9226\n",
      "Epoch 5/5\n",
      "1875/1875 [==============================] - 5s 2ms/step - loss: 0.2510 - accuracy: 0.9247\n"
     ]
    },
    {
     "data": {
      "text/plain": [
       "<keras.src.callbacks.History at 0x1ce6f19f820>"
      ]
     },
     "execution_count": 27,
     "metadata": {},
     "output_type": "execute_result"
    }
   ],
   "source": [
    "model.fit(x_train_flat, y_train, epochs=5)"
   ]
  },
  {
   "cell_type": "code",
   "execution_count": 28,
   "metadata": {},
   "outputs": [
    {
     "name": "stdout",
     "output_type": "stream",
     "text": [
      "313/313 [==============================] - 1s 2ms/step - loss: 0.2414 - accuracy: 0.9253\n"
     ]
    },
    {
     "data": {
      "text/plain": [
       "[0.24142670631408691, 0.9253000020980835]"
      ]
     },
     "execution_count": 28,
     "metadata": {},
     "output_type": "execute_result"
    }
   ],
   "source": [
    "model.evaluate(x_test_flat, y_test)"
   ]
  },
  {
   "cell_type": "code",
   "execution_count": null,
   "metadata": {},
   "outputs": [],
   "source": [
    "# TODO: Run the confusion matrix\n",
    "def plot_confusion_matrix(model, x_test_flat, y_test):\n",
    "    # Make predictions\n",
    "    y_pred = model.predict(x_test_flat)\n",
    "    y_pred_labels = [np.argmax(i) for i in y_pred]\n",
    "    # Create confusion matrix\n",
    "    confusion_matrix = tf.math.confusion_matrix(labels=y_test, predictions=y_pred_labels)\n",
    "    # Plot the confusion matrix\n",
    "    plt.figure(figsize=(8, 6))\n",
    "    sn.heatmap(confusion_matrix, annot=True, fmt='d', cmap='Blues', cbar_kws={'label': 'Count'})\n",
    "    plt.title('Confusion Matrix')\n",
    "    plt.xlabel('Predicted Label')\n",
    "    plt.ylabel('True Label')\n",
    "    plt.show()\n",
    "\n",
    "plot_confusion_matrix(model,x_test_flat,y_test)"
   ]
  }
 ],
 "metadata": {
  "kernelspec": {
   "display_name": "base",
   "language": "python",
   "name": "python3"
  },
  "language_info": {
   "codemirror_mode": {
    "name": "ipython",
    "version": 3
   },
   "file_extension": ".py",
   "mimetype": "text/x-python",
   "name": "python",
   "nbconvert_exporter": "python",
   "pygments_lexer": "ipython3",
   "version": "3.8.20"
  }
 },
 "nbformat": 4,
 "nbformat_minor": 2
}
